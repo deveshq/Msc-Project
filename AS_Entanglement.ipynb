{
  "cells": [
    {
      "cell_type": "markdown",
      "metadata": {
        "id": "view-in-github",
        "colab_type": "text"
      },
      "source": [
        "<a href=\"https://colab.research.google.com/github/Deveshq/Msc-Project/blob/main/AS_Entanglement.ipynb\" target=\"_parent\"><img src=\"https://colab.research.google.com/assets/colab-badge.svg\" alt=\"Open In Colab\"/></a>"
      ]
    },
    {
      "cell_type": "markdown",
      "id": "f7b5812a",
      "metadata": {
        "id": "f7b5812a"
      },
      "source": [
        "## Entanglement & Bell State Prepration\n",
        "####          (Neutral Atom Quantum Computing Simulation)\n",
        "\n",
        "> Devesh Kumar          \n",
        "> MSc Physics-II"
      ]
    },
    {
      "cell_type": "code",
      "source": [
        "pip install pulser"
      ],
      "metadata": {
        "id": "fwvQlIP-EGx0"
      },
      "id": "fwvQlIP-EGx0",
      "execution_count": null,
      "outputs": []
    },
    {
      "cell_type": "code",
      "execution_count": 5,
      "id": "c703194a",
      "metadata": {
        "id": "c703194a"
      },
      "outputs": [],
      "source": [
        "#Some general imports\n",
        "\n",
        "import numpy as np\n",
        "import matplotlib.pyplot as plt\n",
        "import qutip\n",
        "from itertools import product"
      ]
    },
    {
      "cell_type": "markdown",
      "id": "891f7ba5",
      "metadata": {
        "id": "891f7ba5"
      },
      "source": [
        "Some imports from Pulser:"
      ]
    },
    {
      "cell_type": "code",
      "execution_count": 6,
      "id": "14f66119",
      "metadata": {
        "id": "14f66119"
      },
      "outputs": [],
      "source": [
        "import pulser\n",
        "from pulser import Pulse, Sequence, Register\n",
        "from pulser.devices import Chadoq2\n",
        "from pulser.waveforms import BlackmanWaveform, ConstantWaveform\n",
        "from pulser.simulation import Simulation, SimConfig"
      ]
    },
    {
      "cell_type": "markdown",
      "id": "47ba25ce",
      "metadata": {
        "id": "47ba25ce"
      },
      "source": [
        "### Defining Register\n"
      ]
    },
    {
      "cell_type": "code",
      "execution_count": 7,
      "id": "d1bdc9d9",
      "metadata": {
        "colab": {
          "base_uri": "https://localhost:8080/",
          "height": 92
        },
        "id": "d1bdc9d9",
        "outputId": "32e3f1c1-6874-4f46-e70e-108fca18b4d9"
      },
      "outputs": [
        {
          "output_type": "display_data",
          "data": {
            "image/png": "[encoded data removed]",
            "text/plain": [
              "<Figure size 171x36 with 1 Axes>"
            ]
          },
          "metadata": {
            "needs_background": "light"
          }
        }
      ],
      "source": [
        "qubits = {'Control': (-2.5,0) , 'Target': (2.5,0) }\n",
        "reg = Register(qubits)\n",
        "\n",
        "reg.draw()"
      ]
    },
    {
      "cell_type": "markdown",
      "id": "1f573f9e",
      "metadata": {
        "id": "1f573f9e"
      },
      "source": [
        "### State preparation"
      ]
    },
    {
      "cell_type": "code",
      "execution_count": 8,
      "id": "0ddbd961",
      "metadata": {
        "id": "0ddbd961"
      },
      "outputs": [],
      "source": [
        "def state_prep(sid, basis):\n",
        "    ids = {'digital': 'ge', 'ground-rydberg': 'rg', 'all': 'rge'}\n",
        "    \n",
        "    ket = {k: qutip.basis(len(ids[basis]), i) \n",
        "           for i, k in enumerate(ids[basis])}\n",
        "    \n",
        "    return qutip.tensor([ket[x] for x in sid])"
      ]
    },
    {
      "cell_type": "markdown",
      "id": "83a736be",
      "metadata": {
        "id": "83a736be"
      },
      "source": [
        "State preparation sequence:"
      ]
    },
    {
      "cell_type": "code",
      "execution_count": 9,
      "id": "4e831b5c",
      "metadata": {
        "id": "4e831b5c"
      },
      "outputs": [],
      "source": [
        "pi_wf = BlackmanWaveform(200, np.pi)\n",
        "pi_y = Pulse.ConstantDetuning(pi_wf, 0, -np.pi/2)"
      ]
    },
    {
      "cell_type": "code",
      "execution_count": 10,
      "id": "105dd5f8",
      "metadata": {
        "id": "105dd5f8"
      },
      "outputs": [],
      "source": [
        "def prep_seq(sid, reg):\n",
        "    global seq\n",
        "    \n",
        "    seq = Sequence(reg, Chadoq2)\n",
        "\n",
        "    #Declare channel\n",
        "    seq.declare_channel('raman', 'raman_local')\n",
        "    seq.declare_channel('ryd', 'rydberg_local', 'Control')\n",
        "    \n",
        "    if len(sid) != len(reg.qubits):\n",
        "        raise ValueError('Not a valid state ID.')\n",
        "    \n",
        "    seq_dict = {'1':'Target', '0':'Control'}\n",
        "    \n",
        "    if sid == 'gg':\n",
        "        basis = 'all'\n",
        "        seq.target('Control', 'raman')\n",
        "    else:\n",
        "        basis = 'all'\n",
        "        for i in range(len(reg.qubits)):\n",
        "            if sid[i] == 'e':\n",
        "                seq.target(seq_dict[str(i)],'raman')\n",
        "                seq.add(pi_y,'raman')\n",
        "        \n",
        "    prep_state = state_prep(sid, basis)\n",
        "            \n",
        "    return prep_state"
      ]
    },
    {
      "cell_type": "markdown",
      "id": "2999ec3c",
      "metadata": {
        "id": "2999ec3c"
      },
      "source": [
        "Preparaed state:"
      ]
    },
    {
      "cell_type": "code",
      "execution_count": 11,
      "id": "2facb3b7",
      "metadata": {
        "colab": {
          "base_uri": "https://localhost:8080/"
        },
        "id": "2facb3b7",
        "outputId": "9ffacf29-0ac2-45b2-fc0e-563fb7c1db65"
      },
      "outputs": [
        {
          "output_type": "stream",
          "name": "stdout",
          "text": [
            "Quantum object: dims = [[3, 3], [1, 1]], shape = (9, 1), type = ket\n",
            "Qobj data =\n",
            "[[0.]\n",
            " [0.]\n",
            " [0.]\n",
            " [0.]\n",
            " [0.]\n",
            " [1.]\n",
            " [0.]\n",
            " [0.]\n",
            " [0.]]\n"
          ]
        }
      ],
      "source": [
        "prep_state = prep_seq('ge', reg)\n",
        "\n",
        "print(prep_state)"
      ]
    },
    {
      "cell_type": "markdown",
      "id": "d65b8a06",
      "metadata": {
        "id": "d65b8a06"
      },
      "source": [
        "### Entanglement Sequence"
      ]
    },
    {
      "cell_type": "code",
      "execution_count": 12,
      "id": "be534bb0",
      "metadata": {
        "id": "be534bb0"
      },
      "outputs": [],
      "source": [
        "half_pi_wf = BlackmanWaveform(100, np.pi/2)\n",
        "half_pi_pulse = Pulse.ConstantDetuning(half_pi_wf, 0, -np.pi/2)\n",
        "half_pi_pulse_d = Pulse.ConstantDetuning(half_pi_wf, 0, np.pi/2)\n",
        "\n",
        "pi_wf = BlackmanWaveform(200, np.pi)\n",
        "pi_pulse = Pulse.ConstantDetuning(pi_wf, 0, 0)\n",
        "\n",
        "twopi_wf = BlackmanWaveform(300, 2*np.pi)\n",
        "twopi_pulse = Pulse.ConstantDetuning(twopi_wf, 0, 0)"
      ]
    },
    {
      "cell_type": "code",
      "execution_count": 13,
      "id": "0a82c40f",
      "metadata": {
        "id": "0a82c40f"
      },
      "outputs": [],
      "source": [
        "def CNOT_seq(int_id):\n",
        "\n",
        "    #State Preparation\n",
        "    prep_state = prep_seq(int_id, reg)\n",
        "    prep_time = max((seq._last(ch).tf for ch in seq.declared_channels), default = 0)\n",
        "    \n",
        "    #Hadamard sequence\n",
        "    seq.target('Control', 'raman')\n",
        "    seq.add(half_pi_pulse, 'raman', 'wait-for-all')\n",
        "    seq.align('raman', 'ryd')\n",
        "    \n",
        "    #CNOT sequence:\n",
        "    \n",
        "    seq.target('Target', 'raman')\n",
        "    seq.add(pi_pulse, 'ryd')\n",
        "    seq.target('Target', 'ryd')    # Changes to target qubit\n",
        "    \n",
        "    seq.add(pi_pulse, 'ryd')\n",
        "    seq.align('raman', 'ryd')\n",
        "\n",
        "    seq.add(pi_pulse, 'raman')\n",
        "    seq.align('raman', 'ryd')\n",
        "    \n",
        "    seq.add(pi_pulse, 'ryd')\n",
        "    seq.align('raman', 'ryd')\n",
        "    \n",
        "    seq.add(pi_pulse, 'raman')\n",
        "    seq.align('raman', 'ryd')\n",
        "    \n",
        "    seq.add(pi_pulse, 'ryd')\n",
        "    seq.target('Control', 'ryd')     # Changes back to control qubit\n",
        "    seq.add(pi_pulse, 'ryd')\n",
        "    \n",
        "    return prep_state, prep_time"
      ]
    },
    {
      "cell_type": "markdown",
      "id": "8cb7fd68",
      "metadata": {
        "id": "8cb7fd68"
      },
      "source": [
        "### Visualising sequence"
      ]
    },
    {
      "cell_type": "code",
      "execution_count": 14,
      "id": "5ad6d86e",
      "metadata": {
        "tags": [],
        "colab": {
          "base_uri": "https://localhost:8080/",
          "height": 1000
        },
        "id": "5ad6d86e",
        "outputId": "600acfeb-9254-4235-fd1e-5570a6490a5d"
      },
      "outputs": [
        {
          "output_type": "stream",
          "name": "stdout",
          "text": [
            "\n",
            "\n",
            " Visualization for the initial state '01': \n",
            "\n",
            "\n"
          ]
        },
        {
          "output_type": "display_data",
          "data": {
            "image/png": "[encoded data removed]",
            "text/plain": [
              "<Figure size 1440x648 with 6 Axes>"
            ]
          },
          "metadata": {}
        },
        {
          "output_type": "stream",
          "name": "stdout",
          "text": [
            "\n",
            " Prepared state --> Quantum object: dims = [[3, 3], [1, 1]], shape = (9, 1), type = ket\n",
            "Qobj data =\n",
            "[[0.]\n",
            " [0.]\n",
            " [0.]\n",
            " [0.]\n",
            " [1.]\n",
            " [0.]\n",
            " [0.]\n",
            " [0.]\n",
            " [0.]]\n",
            "\n",
            " Preparation time: 0ns \n",
            "\n",
            "\n",
            "Channel: raman\n",
            "t: 0 | Initial targets: Control | Phase Reference: 0.0 \n",
            "t: 0->100 | Pulse(Amp=Blackman(Area: 1.57), Detuning=0 rad/µs, Phase=4.71) | Targets: Control\n",
            "t: 100->220 | Target: Target | Phase Reference: 0.0\n",
            "t: 220->500 | Delay \n",
            "t: 500->700 | Pulse(Amp=Blackman(Area: 3.14), Detuning=0 rad/µs, Phase=0) | Targets: Target\n",
            "t: 700->900 | Delay \n",
            "t: 900->1100 | Pulse(Amp=Blackman(Area: 3.14), Detuning=0 rad/µs, Phase=0) | Targets: Target\n",
            "\n",
            "Channel: ryd\n",
            "t: 0 | Initial targets: Control | Phase Reference: 0.0 \n",
            "t: 0->100 | Delay \n",
            "t: 100->300 | Pulse(Amp=Blackman(Area: 3.14), Detuning=0 rad/µs, Phase=0) | Targets: Control\n",
            "t: 300->300 | Target: Target | Phase Reference: 0.0\n",
            "t: 300->500 | Pulse(Amp=Blackman(Area: 3.14), Detuning=0 rad/µs, Phase=0) | Targets: Target\n",
            "t: 500->700 | Delay \n",
            "t: 700->900 | Pulse(Amp=Blackman(Area: 3.14), Detuning=0 rad/µs, Phase=0) | Targets: Target\n",
            "t: 900->1100 | Delay \n",
            "t: 1100->1300 | Pulse(Amp=Blackman(Area: 3.14), Detuning=0 rad/µs, Phase=0) | Targets: Target\n",
            "t: 1300->1300 | Target: Control | Phase Reference: 0.0\n",
            "t: 1300->1500 | Pulse(Amp=Blackman(Area: 3.14), Detuning=0 rad/µs, Phase=0) | Targets: Control\n",
            "\n",
            "\n"
          ]
        }
      ],
      "source": [
        "print(f\"\\n\\n Visualization for the initial state '01': \\n\\n\")\n",
        "prep_state, prep_time = CNOT_seq('gg')\n",
        "seq.draw(draw_phase_area=True)\n",
        "print(f'\\n Prepared state --> {prep_state}')\n",
        "print(f'\\n Preparation time: {prep_time}ns \\n\\n')\n",
        "print(seq)"
      ]
    },
    {
      "cell_type": "markdown",
      "id": "9013e258",
      "metadata": {
        "id": "9013e258"
      },
      "source": [
        "### Simulating the CNOT-Sequence"
      ]
    },
    {
      "cell_type": "code",
      "execution_count": 30,
      "id": "05d79aa9",
      "metadata": {
        "colab": {
          "base_uri": "https://localhost:8080/",
          "height": 607
        },
        "id": "05d79aa9",
        "outputId": "872fc08c-692e-4f85-de67-c784544f2cc9"
      },
      "outputs": [
        {
          "output_type": "stream",
          "name": "stdout",
          "text": [
            "\n",
            "For the Bell state B1: Input- (gg)\n",
            "Prep state:Quantum object: dims = [[3, 3], [1, 1]], shape = (9, 1), type = ket\n",
            "Qobj data =\n",
            "[[0.]\n",
            " [0.]\n",
            " [0.]\n",
            " [0.]\n",
            " [1.]\n",
            " [0.]\n",
            " [0.]\n",
            " [0.]\n",
            " [0.]]\n",
            "Prep time:0\n",
            "counts: Counter({'00': 499, '11': 419, '10': 46, '01': 36})\n",
            "\n"
          ]
        },
        {
          "output_type": "display_data",
          "data": {
            "image/png": "[encoded data removed]",
            "text/plain": [
              "<Figure size 720x360 with 1 Axes>"
            ]
          },
          "metadata": {
            "needs_background": "light"
          }
        }
      ],
      "source": [
        "n=1\n",
        "state = [0]*2\n",
        "\n",
        "for sid in {'gg'}:\n",
        "    # State prep\n",
        "    prep_state, prep_time = CNOT_seq(sid) # constructs seq, prep_state and prep_time\n",
        "    \n",
        "    # Construct Simulation instance\n",
        "    sim = Simulation(seq)\n",
        "    cfg = SimConfig(noise=('SPAM', 'doppler'), eta = 0.02, temperature = 200, runs = 1000) \n",
        "    sim.set_config(cfg)\n",
        "\n",
        "    res = sim.run()#progress_bar= True)\n",
        "    \n",
        "    state[n-1] = res.get_final_state() #reduce_to_basis='digital')\n",
        "    count = res.sample_final_state(N_samples=1e3)\n",
        "    \n",
        "    print(f'\\nFor the Bell state B{n}: Input- ({sid})\\nPrep state:{prep_state}\\nPrep time:{prep_time}\\ncounts: {count}\\n')\n",
        "    \n",
        "    most_freq = {k:v for k,v in count.items() if v>5}\n",
        "    \n",
        "    plt.figure(figsize=(10,5))\n",
        "    plt.bar(list(most_freq.keys()), list(most_freq.values()), width = 0.8)\n",
        "    plt.xticks()#rotation ='vertical')\n",
        "    plt.show()\n",
        "    n +=1 \n"
      ]
    },
    {
      "cell_type": "code",
      "source": [
        " state[0]*state[0].dag(), state[0]"
      ],
      "metadata": {
        "colab": {
          "base_uri": "https://localhost:8080/"
        },
        "id": "btJtYUbuBKh-",
        "outputId": "57889b77-dc0b-4440-f9ec-18eb9ffb56c6"
      },
      "id": "btJtYUbuBKh-",
      "execution_count": 31,
      "outputs": [
        {
          "output_type": "execute_result",
          "data": {
            "text/plain": [
              "(Quantum object: dims = [[2, 2], [2, 2]], shape = (4, 4), type = oper, isherm = True\n",
              " Qobj data =\n",
              " [[0.23367556 0.         0.         0.        ]\n",
              "  [0.         0.00215296 0.         0.        ]\n",
              "  [0.         0.         0.002116   0.        ]\n",
              "  [0.         0.         0.         0.17994564]],\n",
              " Quantum object: dims = [[2, 2], [2, 2]], shape = (4, 4), type = oper, isherm = True\n",
              " Qobj data =\n",
              " [[0.4834 0.     0.     0.    ]\n",
              "  [0.     0.0464 0.     0.    ]\n",
              "  [0.     0.     0.046  0.    ]\n",
              "  [0.     0.     0.     0.4242]])"
            ]
          },
          "metadata": {},
          "execution_count": 31
        }
      ]
    },
    {
      "cell_type": "code",
      "source": [
        "n=1\n",
        "state = [0]*2\n",
        "\n",
        "for sid in {'ge'}:\n",
        "    # State prep\n",
        "    prep_state, prep_time = CNOT_seq(sid) # constructs seq, prep_state and prep_time\n",
        "    \n",
        "    # Construct Simulation instance\n",
        "    sim = Simulation(seq)\n",
        "    cfg = SimConfig(noise=('SPAM', 'doppler'), eta = 0.02, temperature = 200, runs = 1000) \n",
        "    sim.set_config(cfg)\n",
        "\n",
        "    res = sim.run()\n",
        "    \n",
        "    state[n-1] = res.get_final_state()#reduce_to_basis='digital')\n",
        "    count = res.sample_final_state(N_samples=1e3)\n",
        "    \n",
        "    print(f'\\nFor the Bell state B{n}: Input- ({sid})\\nPrep state:{prep_state}\\nPrep time:{prep_time}\\ncounts: {count}\\n')\n",
        "    \n",
        "    most_freq = {k:v for k,v in count.items() if v>5}\n",
        "    \n",
        "    plt.figure(figsize=(10,5))\n",
        "    plt.bar(list(most_freq.keys()), list(most_freq.values()), width = 0.8)\n",
        "    plt.xticks()#rotation ='vertical')\n",
        "    plt.show()\n",
        "    n +=1 \n"
      ],
      "metadata": {
        "colab": {
          "base_uri": "https://localhost:8080/",
          "height": 607
        },
        "id": "kWl_yXGNMZv7",
        "outputId": "d16c8b6d-82b4-48ac-8590-6ab5dc02fd15"
      },
      "id": "kWl_yXGNMZv7",
      "execution_count": 26,
      "outputs": [
        {
          "output_type": "stream",
          "name": "stdout",
          "text": [
            "\n",
            "For the Bell state B1: Input- (ge)\n",
            "Prep state:Quantum object: dims = [[3, 3], [1, 1]], shape = (9, 1), type = ket\n",
            "Qobj data =\n",
            "[[0.]\n",
            " [0.]\n",
            " [0.]\n",
            " [0.]\n",
            " [0.]\n",
            " [1.]\n",
            " [0.]\n",
            " [0.]\n",
            " [0.]]\n",
            "Prep time:200\n",
            "counts: Counter({'01': 454, '10': 449, '00': 86, '11': 11})\n",
            "\n"
          ]
        },
        {
          "output_type": "display_data",
          "data": {
            "image/png": "[encoded data removed]",
            "text/plain": [
              "<Figure size 720x360 with 1 Axes>"
            ]
          },
          "metadata": {
            "needs_background": "light"
          }
        }
      ]
    },
    {
      "cell_type": "code",
      "source": [
        " state[0]*state[0].dag(), state[0]"
      ],
      "metadata": {
        "colab": {
          "base_uri": "https://localhost:8080/"
        },
        "id": "zm7aKP13MkmC",
        "outputId": "a48383ab-0b6a-4267-e9ab-aec28172a8fa"
      },
      "id": "zm7aKP13MkmC",
      "execution_count": 28,
      "outputs": [
        {
          "output_type": "execute_result",
          "data": {
            "text/plain": [
              "(Quantum object: dims = [[2, 2], [2, 2]], shape = (4, 4), type = oper, isherm = True\n",
              " Qobj data =\n",
              " [[5.8982400e-03 0.0000000e+00 0.0000000e+00 0.0000000e+00]\n",
              "  [0.0000000e+00 2.0034576e-01 0.0000000e+00 0.0000000e+00]\n",
              "  [0.0000000e+00 0.0000000e+00 2.1659716e-01 0.0000000e+00]\n",
              "  [0.0000000e+00 0.0000000e+00 0.0000000e+00 1.0404000e-04]],\n",
              " Quantum object: dims = [[2, 2], [2, 2]], shape = (4, 4), type = oper, isherm = True\n",
              " Qobj data =\n",
              " [[0.0768 0.     0.     0.    ]\n",
              "  [0.     0.4476 0.     0.    ]\n",
              "  [0.     0.     0.4654 0.    ]\n",
              "  [0.     0.     0.     0.0102]])"
            ]
          },
          "metadata": {},
          "execution_count": 28
        }
      ]
    }
  ],
  "metadata": {
    "kernelspec": {
      "display_name": "Python 3 (ipykernel)",
      "language": "python",
      "name": "python3"
    },
    "language_info": {
      "codemirror_mode": {
        "name": "ipython",
        "version": 3
      },
      "file_extension": ".py",
      "mimetype": "text/x-python",
      "name": "python",
      "nbconvert_exporter": "python",
      "pygments_lexer": "ipython3",
      "version": "3.9.5"
    },
    "colab": {
      "name": "AS Entanglement.ipynb",
      "provenance": [],
      "include_colab_link": true
    }
  },
  "nbformat": 4,
  "nbformat_minor": 5
}