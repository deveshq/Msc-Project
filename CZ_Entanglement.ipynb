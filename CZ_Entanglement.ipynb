{
  "cells": [
    {
      "cell_type": "markdown",
      "metadata": {
        "id": "view-in-github",
        "colab_type": "text"
      },
      "source": [
        "<a href=\"https://colab.research.google.com/github/Deveshq/Msc-Project/blob/main/CZ_Entanglement.ipynb\" target=\"_parent\"><img src=\"https://colab.research.google.com/assets/colab-badge.svg\" alt=\"Open In Colab\"/></a>"
      ]
    },
    {
      "cell_type": "markdown",
      "id": "f7b5812a",
      "metadata": {
        "id": "f7b5812a"
      },
      "source": [
        "# Entanglement & Bell State Prepration\n",
        "          (Neutral Atom Quantum Computing Simulation)\n",
        "\n",
        "> Devesh Kumar          \n",
        "> MSc Physics-II"
      ]
    },
    {
      "cell_type": "code",
      "execution_count": 1,
      "id": "c703194a",
      "metadata": {
        "id": "c703194a"
      },
      "outputs": [],
      "source": [
        "#Some general imports\n",
        "\n",
        "import numpy as np\n",
        "import matplotlib.pyplot as plt\n",
        "import qutip\n",
        "from itertools import product"
      ]
    },
    {
      "cell_type": "markdown",
      "id": "891f7ba5",
      "metadata": {
        "id": "891f7ba5"
      },
      "source": [
        "Some imports from Pulser:"
      ]
    },
    {
      "cell_type": "code",
      "execution_count": 2,
      "id": "14f66119",
      "metadata": {
        "id": "14f66119"
      },
      "outputs": [],
      "source": [
        "import pulser\n",
        "from pulser import Pulse, Sequence, Register\n",
        "from pulser.devices import Chadoq2\n",
        "from pulser.waveforms import BlackmanWaveform, ConstantWaveform\n",
        "from pulser.simulation import Simulation, SimConfig"
      ]
    },
    {
      "cell_type": "markdown",
      "id": "47ba25ce",
      "metadata": {
        "id": "47ba25ce"
      },
      "source": [
        "### Defining Register\n"
      ]
    },
    {
      "cell_type": "code",
      "execution_count": 3,
      "id": "d1bdc9d9",
      "metadata": {
        "colab": {
          "base_uri": "https://localhost:8080/",
          "height": 92
        },
        "id": "d1bdc9d9",
        "outputId": "31233add-e0b9-44fc-cb80-7b062a03fea1"
      },
      "outputs": [
        {
          "output_type": "display_data",
          "data": {
            "image/png": "[encoded data removed]",
            "text/plain": [
              "<Figure size 171x36 with 1 Axes>"
            ]
          },
          "metadata": {
            "needs_background": "light"
          }
        }
      ],
      "source": [
        "qubits = {'Control': (-2.5,0) , 'Target': (2.5,0) }\n",
        "reg = Register(qubits)\n",
        "\n",
        "reg.draw()"
      ]
    },
    {
      "cell_type": "markdown",
      "id": "1f573f9e",
      "metadata": {
        "id": "1f573f9e"
      },
      "source": [
        "### State preparation"
      ]
    },
    {
      "cell_type": "code",
      "execution_count": 4,
      "id": "0ddbd961",
      "metadata": {
        "id": "0ddbd961"
      },
      "outputs": [],
      "source": [
        "def state_prep(sid, basis):\n",
        "    ids = {'digital': 'ge', 'ground-rydberg': 'rg', 'all': 'rge'}\n",
        "    \n",
        "    ket = {k: qutip.basis(len(ids[basis]), i) \n",
        "           for i, k in enumerate(ids[basis])}\n",
        "    \n",
        "    return qutip.tensor([ket[x] for x in sid])"
      ]
    },
    {
      "cell_type": "markdown",
      "id": "83a736be",
      "metadata": {
        "id": "83a736be"
      },
      "source": [
        "State preparation sequence:"
      ]
    },
    {
      "cell_type": "code",
      "execution_count": 5,
      "id": "4e831b5c",
      "metadata": {
        "id": "4e831b5c"
      },
      "outputs": [],
      "source": [
        "pi_wf = BlackmanWaveform(200, np.pi)\n",
        "pi_y = Pulse.ConstantDetuning(pi_wf, 0, -np.pi/2)"
      ]
    },
    {
      "cell_type": "code",
      "execution_count": 6,
      "id": "105dd5f8",
      "metadata": {
        "id": "105dd5f8"
      },
      "outputs": [],
      "source": [
        "def prep_seq(sid, reg):\n",
        "    global seq\n",
        "    \n",
        "    seq = Sequence(reg, Chadoq2)\n",
        "\n",
        "    #Declare channel\n",
        "    seq.declare_channel('raman', 'raman_local')\n",
        "    seq.declare_channel('ryd', 'rydberg_local', 'Control')\n",
        "    \n",
        "    if len(sid) != len(reg.qubits):\n",
        "        raise ValueError('Not a valid state ID.')\n",
        "    \n",
        "    seq_dict = {'1':'Target', '0':'Control'}\n",
        "    \n",
        "    if sid == 'gg':\n",
        "        basis = 'all'\n",
        "        seq.target('Control', 'raman')\n",
        "    else:\n",
        "        basis = 'all'\n",
        "        for i in range(len(reg.qubits)):\n",
        "            if sid[i] == 'e':\n",
        "                seq.target(seq_dict[str(i)],'raman')\n",
        "                seq.add(pi_y,'raman')\n",
        "        \n",
        "    prep_state = state_prep(sid, basis)\n",
        "            \n",
        "    return prep_state"
      ]
    },
    {
      "cell_type": "markdown",
      "id": "2999ec3c",
      "metadata": {
        "id": "2999ec3c"
      },
      "source": [
        "Preparaed state:"
      ]
    },
    {
      "cell_type": "code",
      "execution_count": 7,
      "id": "2facb3b7",
      "metadata": {
        "colab": {
          "base_uri": "https://localhost:8080/"
        },
        "id": "2facb3b7",
        "outputId": "f25ef152-1ab4-453b-e712-d2380e7ec1aa"
      },
      "outputs": [
        {
          "output_type": "stream",
          "name": "stdout",
          "text": [
            "Quantum object: dims = [[3, 3], [1, 1]], shape = (9, 1), type = ket\n",
            "Qobj data =\n",
            "[[0.]\n",
            " [0.]\n",
            " [0.]\n",
            " [0.]\n",
            " [0.]\n",
            " [1.]\n",
            " [0.]\n",
            " [0.]\n",
            " [0.]]\n"
          ]
        }
      ],
      "source": [
        "prep_state = prep_seq('ge', reg)\n",
        "\n",
        "print(prep_state)"
      ]
    },
    {
      "cell_type": "markdown",
      "id": "d65b8a06",
      "metadata": {
        "id": "d65b8a06"
      },
      "source": [
        "### Entanglement Sequence"
      ]
    },
    {
      "cell_type": "code",
      "execution_count": 8,
      "id": "be534bb0",
      "metadata": {
        "id": "be534bb0"
      },
      "outputs": [],
      "source": [
        "half_pi_wf = BlackmanWaveform(100, np.pi/2)\n",
        "half_pi_pulse = Pulse.ConstantDetuning(half_pi_wf, 0, -np.pi/2)\n",
        "half_pi_pulse_d = Pulse.ConstantDetuning(half_pi_wf, 0, np.pi/2)\n",
        "\n",
        "pi_wf = BlackmanWaveform(200, np.pi)\n",
        "pi_pulse = Pulse.ConstantDetuning(pi_wf, 0, 0)\n",
        "\n",
        "twopi_wf = BlackmanWaveform(300, 2*np.pi)\n",
        "twopi_pulse = Pulse.ConstantDetuning(twopi_wf, 0, 0)"
      ]
    },
    {
      "cell_type": "code",
      "execution_count": 9,
      "id": "0a82c40f",
      "metadata": {
        "id": "0a82c40f"
      },
      "outputs": [],
      "source": [
        "def CNOT_seq(int_id):\n",
        "\n",
        "    #State Preparation\n",
        "    prep_state = prep_seq(int_id, reg)\n",
        "    prep_time = max((seq._last(ch).tf for ch in seq.declared_channels), default = 0)\n",
        "    \n",
        "    #Hadamard sequence\n",
        "    seq.target('Control', 'raman')\n",
        "    seq.add(half_pi_pulse, 'raman', 'wait-for-all')\n",
        "    seq.align('raman', 'ryd')\n",
        "    \n",
        "    #CNOT sequence:\n",
        "    seq.target('Target', 'raman')\n",
        "    seq.add(half_pi_pulse, 'raman', 'wait-for-all')# Wait for state preparation.\n",
        "    seq.align('raman', 'ryd')\n",
        "    \n",
        "    seq.add(pi_pulse, 'ryd')\n",
        "    seq.target('Target', 'ryd')    # Changes to target qubit\n",
        "    seq.add(twopi_pulse, 'ryd')\n",
        "    seq.target('Control', 'ryd')     # Changes back to control qubit\n",
        "    seq.add(pi_pulse, 'ryd')\n",
        "    \n",
        "    seq.align('raman', 'ryd')\n",
        "    seq.target('Target', 'raman')\n",
        "    seq.add(half_pi_pulse_d, 'raman')\n",
        "    \n",
        "    return prep_state, prep_time"
      ]
    },
    {
      "cell_type": "markdown",
      "id": "8cb7fd68",
      "metadata": {
        "id": "8cb7fd68"
      },
      "source": [
        "### Visualising sequence"
      ]
    },
    {
      "cell_type": "code",
      "execution_count": 10,
      "id": "5ad6d86e",
      "metadata": {
        "colab": {
          "base_uri": "https://localhost:8080/",
          "height": 1000
        },
        "id": "5ad6d86e",
        "outputId": "352683bf-7fe9-434e-9df2-fc82417a7bc0"
      },
      "outputs": [
        {
          "output_type": "stream",
          "name": "stdout",
          "text": [
            "\n",
            "\n",
            " Visualization for the initial state '01': \n",
            "\n",
            "\n"
          ]
        },
        {
          "output_type": "display_data",
          "data": {
            "image/png": "[encoded data removed]",
            "text/plain": [
              "<Figure size 1440x648 with 6 Axes>"
            ]
          },
          "metadata": {}
        },
        {
          "output_type": "stream",
          "name": "stdout",
          "text": [
            "\n",
            " Prepared state --> Quantum object: dims = [[3, 3], [1, 1]], shape = (9, 1), type = ket\n",
            "Qobj data =\n",
            "[[0.]\n",
            " [0.]\n",
            " [0.]\n",
            " [0.]\n",
            " [1.]\n",
            " [0.]\n",
            " [0.]\n",
            " [0.]\n",
            " [0.]]\n",
            "\n",
            " Preparation time: 0ns \n",
            "\n",
            "\n",
            "Channel: raman\n",
            "t: 0 | Initial targets: Control | Phase Reference: 0.0 \n",
            "t: 0->100 | Pulse(Amp=Blackman(Area: 1.57), Detuning=0 rad/µs, Phase=4.71) | Targets: Control\n",
            "t: 100->220 | Target: Target | Phase Reference: 0.0\n",
            "t: 220->320 | Pulse(Amp=Blackman(Area: 1.57), Detuning=0 rad/µs, Phase=4.71) | Targets: Target\n",
            "t: 320->1020 | Delay \n",
            "t: 1020->1120 | Pulse(Amp=Blackman(Area: 1.57), Detuning=0 rad/µs, Phase=1.57) | Targets: Target\n",
            "\n",
            "Channel: ryd\n",
            "t: 0 | Initial targets: Control | Phase Reference: 0.0 \n",
            "t: 0->100 | Delay \n",
            "t: 100->320 | Delay \n",
            "t: 320->520 | Pulse(Amp=Blackman(Area: 3.14), Detuning=0 rad/µs, Phase=0) | Targets: Control\n",
            "t: 520->520 | Target: Target | Phase Reference: 0.0\n",
            "t: 520->820 | Pulse(Amp=Blackman(Area: 6.28), Detuning=0 rad/µs, Phase=0) | Targets: Target\n",
            "t: 820->820 | Target: Control | Phase Reference: 0.0\n",
            "t: 820->1020 | Pulse(Amp=Blackman(Area: 3.14), Detuning=0 rad/µs, Phase=0) | Targets: Control\n",
            "\n",
            "\n"
          ]
        }
      ],
      "source": [
        "print(f\"\\n\\n Visualization for the initial state '01': \\n\\n\")\n",
        "prep_state, prep_time = CNOT_seq('gg')\n",
        "seq.draw(draw_phase_area=True)\n",
        "print(f'\\n Prepared state --> {prep_state}')\n",
        "print(f'\\n Preparation time: {prep_time}ns \\n\\n')\n",
        "print(seq)"
      ]
    },
    {
      "cell_type": "markdown",
      "id": "9013e258",
      "metadata": {
        "id": "9013e258"
      },
      "source": [
        "### Simulating the CNOT-Sequence\n",
        "\n",
        "For $|B_1⟩ = \\frac{|00⟩ + |11⟩}{\\sqrt{2}}$"
      ]
    },
    {
      "cell_type": "code",
      "execution_count": 24,
      "id": "05d79aa9",
      "metadata": {
        "colab": {
          "base_uri": "https://localhost:8080/",
          "height": 607
        },
        "id": "05d79aa9",
        "outputId": "f2ec3743-5fd8-4af0-8a3d-280ffd8dce48"
      },
      "outputs": [
        {
          "output_type": "stream",
          "name": "stdout",
          "text": [
            "\n",
            "For the Bell state B1: Input- (gg)\n",
            "Prep state:Quantum object: dims = [[3, 3], [1, 1]], shape = (9, 1), type = ket\n",
            "Qobj data =\n",
            "[[0.]\n",
            " [0.]\n",
            " [0.]\n",
            " [0.]\n",
            " [1.]\n",
            " [0.]\n",
            " [0.]\n",
            " [0.]\n",
            " [0.]]\n",
            "Prep time:0\n",
            "counts: Counter({'00': 474, '11': 427, '10': 51, '01': 48})\n",
            "\n"
          ]
        },
        {
          "output_type": "display_data",
          "data": {
            "image/png": "[encoded data removed]",
            "text/plain": [
              "<Figure size 720x360 with 1 Axes>"
            ]
          },
          "metadata": {
            "needs_background": "light"
          }
        }
      ],
      "source": [
        "n=1\n",
        "state = [0]*2\n",
        "\n",
        "for sid in {'gg'}:\n",
        "    # State prep\n",
        "    prep_state, prep_time = CNOT_seq(sid) # constructs seq, prep_state and prep_time\n",
        "    \n",
        "    # Construct Simulation instance\n",
        "    sim = Simulation(seq)\n",
        "    cfg = SimConfig(noise=('SPAM', 'doppler'), eta = 0.02, temperature = 200, runs = 1000) \n",
        "    sim.set_config(cfg)\n",
        "\n",
        "    res = sim.run()\n",
        "    \n",
        "    state[n-1] = res.get_final_state()#reduce_to_basis='digital')\n",
        "    count = res.sample_final_state(N_samples=1e3)\n",
        "    \n",
        "    print(f'\\nFor the Bell state B{n}: Input- ({sid})\\nPrep state:{prep_state}\\nPrep time:{prep_time}\\ncounts: {count}\\n')\n",
        "    \n",
        "    most_freq = {k:v for k,v in count.items() if v>5}\n",
        "    \n",
        "    plt.figure(figsize=(10,5))\n",
        "    plt.bar(list(most_freq.keys()), list(most_freq.values()), width = 0.8)\n",
        "    plt.xticks()#rotation ='vertical')\n",
        "    plt.show()\n",
        "    n +=1 \n"
      ]
    },
    {
      "cell_type": "code",
      "source": [
        " state[0]*state[0].dag(), state[0]"
      ],
      "metadata": {
        "colab": {
          "base_uri": "https://localhost:8080/"
        },
        "id": "Q0Hue2F6xVVb",
        "outputId": "2e78a51c-5e35-4624-d64e-0225c80ade45"
      },
      "id": "Q0Hue2F6xVVb",
      "execution_count": 32,
      "outputs": [
        {
          "output_type": "execute_result",
          "data": {
            "text/plain": [
              "(Quantum object: dims = [[2, 2], [2, 2]], shape = (4, 4), type = oper, isherm = True\n",
              " Qobj data =\n",
              " [[0.219024   0.         0.         0.        ]\n",
              "  [0.         0.00272484 0.         0.        ]\n",
              "  [0.         0.         0.00206116 0.        ]\n",
              "  [0.         0.         0.         0.18870336]],\n",
              " Quantum object: dims = [[2, 2], [2, 2]], shape = (4, 4), type = oper, isherm = True\n",
              " Qobj data =\n",
              " [[0.468  0.     0.     0.    ]\n",
              "  [0.     0.0522 0.     0.    ]\n",
              "  [0.     0.     0.0454 0.    ]\n",
              "  [0.     0.     0.     0.4344]])"
            ]
          },
          "metadata": {},
          "execution_count": 32
        }
      ]
    },
    {
      "cell_type": "markdown",
      "source": [
        "\n",
        "For $|B_2⟩ = \\frac{|01⟩ + |10⟩}{\\sqrt{2}}$ :"
      ],
      "metadata": {
        "id": "WQ5wvGTY61Zk"
      },
      "id": "WQ5wvGTY61Zk"
    },
    {
      "cell_type": "code",
      "source": [
        "n=1\n",
        "state = [0]*2\n",
        "\n",
        "for sid in {'ge'}:\n",
        "    # State prep\n",
        "    prep_state, prep_time = CNOT_seq(sid) # constructs seq, prep_state and prep_time\n",
        "    \n",
        "    # Construct Simulation instance\n",
        "    sim = Simulation(seq)\n",
        "    cfg = SimConfig(noise=('SPAM', 'doppler'), eta = 0.02, temperature = 200, runs = 1000) \n",
        "    sim.set_config(cfg)\n",
        "\n",
        "    res = sim.run()\n",
        "    \n",
        "    state[n-1] = res.get_final_state()#reduce_to_basis='digital')\n",
        "    count = res.sample_final_state(N_samples=1e3)\n",
        "    \n",
        "    print(f'\\nFor the Bell state B{n}: Input- ({sid})\\nPrep state:{prep_state}\\nPrep time:{prep_time}\\ncounts: {count}\\n')\n",
        "    \n",
        "    most_freq = {k:v for k,v in count.items() if v>5}\n",
        "    \n",
        "    plt.figure(figsize=(10,5))\n",
        "    plt.bar(list(most_freq.keys()), list(most_freq.values()), width = 0.8)\n",
        "    plt.xticks()#rotation ='vertical')\n",
        "    plt.show()\n",
        "    n +=1 \n"
      ],
      "metadata": {
        "colab": {
          "base_uri": "https://localhost:8080/",
          "height": 607
        },
        "id": "YGPCAP-865Qk",
        "outputId": "1ae1310d-e460-4158-ce1a-51cccda49fea"
      },
      "id": "YGPCAP-865Qk",
      "execution_count": 33,
      "outputs": [
        {
          "output_type": "stream",
          "name": "stdout",
          "text": [
            "\n",
            "For the Bell state B1: Input- (ge)\n",
            "Prep state:Quantum object: dims = [[3, 3], [1, 1]], shape = (9, 1), type = ket\n",
            "Qobj data =\n",
            "[[0.]\n",
            " [0.]\n",
            " [0.]\n",
            " [0.]\n",
            " [0.]\n",
            " [1.]\n",
            " [0.]\n",
            " [0.]\n",
            " [0.]]\n",
            "Prep time:200\n",
            "counts: Counter({'10': 463, '01': 448, '00': 75, '11': 14})\n",
            "\n"
          ]
        },
        {
          "output_type": "display_data",
          "data": {
            "image/png": "[encoded data removed]",
            "text/plain": [
              "<Figure size 720x360 with 1 Axes>"
            ]
          },
          "metadata": {
            "needs_background": "light"
          }
        }
      ]
    },
    {
      "cell_type": "code",
      "source": [
        " state[0]*state[0].dag(), state[0]"
      ],
      "metadata": {
        "colab": {
          "base_uri": "https://localhost:8080/"
        },
        "id": "Jt-NZTq57Aaj",
        "outputId": "d0def031-94e0-4e38-81a8-6c239bfbe4ab"
      },
      "id": "Jt-NZTq57Aaj",
      "execution_count": 34,
      "outputs": [
        {
          "output_type": "execute_result",
          "data": {
            "text/plain": [
              "(Quantum object: dims = [[2, 2], [2, 2]], shape = (4, 4), type = oper, isherm = True\n",
              " Qobj data =\n",
              " [[7.1910400e-03 0.0000000e+00 0.0000000e+00 0.0000000e+00]\n",
              "  [0.0000000e+00 1.9009600e-01 0.0000000e+00 0.0000000e+00]\n",
              "  [0.0000000e+00 0.0000000e+00 2.1752896e-01 0.0000000e+00]\n",
              "  [0.0000000e+00 0.0000000e+00 0.0000000e+00 1.6384000e-04]],\n",
              " Quantum object: dims = [[2, 2], [2, 2]], shape = (4, 4), type = oper, isherm = True\n",
              " Qobj data =\n",
              " [[0.0848 0.     0.     0.    ]\n",
              "  [0.     0.436  0.     0.    ]\n",
              "  [0.     0.     0.4664 0.    ]\n",
              "  [0.     0.     0.     0.0128]])"
            ]
          },
          "metadata": {},
          "execution_count": 34
        }
      ]
    },
    {
      "cell_type": "markdown",
      "id": "3afa6c7c-e0bb-481d-9df5-5d1556f0762d",
      "metadata": {
        "id": "3afa6c7c-e0bb-481d-9df5-5d1556f0762d"
      },
      "source": [
        "## Analysis"
      ]
    },
    {
      "cell_type": "markdown",
      "id": "23cd38e8-ccd8-461f-a8bc-e8c5afa7f911",
      "metadata": {
        "id": "23cd38e8-ccd8-461f-a8bc-e8c5afa7f911"
      },
      "source": [
        "### Probability matrix (need to update this)\n",
        "\n",
        "We get the probability matrix...\n",
        "\n",
        "\n",
        "$$\n",
        "U_{CNOT} =\n",
        "\\begin{bmatrix}\n",
        "    0.4826 & 0.0440 & 0.0380 & 0.4354 \\\\\n",
        "    0.0872 & 0.4615 & 0.4408 & 0.0105 \\\\\n",
        "    0.4770 & 0.0442 & 0.0384 & 0.4404 \\\\\n",
        "    0.0950 & 0.4457 & 0.4468 & 0.0125 \\\\\n",
        "\\end{bmatrix}\n",
        "$$\n",
        "\n",
        "### Entanglement verification\n",
        "\n",
        "The value of $F$ larger than $1/2$ is an entangled state. Where $F$ is given by:\n",
        "\n",
        "$$\n",
        "F = \\frac{1}{2}(P_{00} + P_{11}) + c_1\n",
        "$$\n",
        ".\n",
        "\n",
        ".\n",
        "\n",
        ".\n"
      ]
    }
  ],
  "metadata": {
    "kernelspec": {
      "display_name": "Python 3 (ipykernel)",
      "language": "python",
      "name": "python3"
    },
    "language_info": {
      "codemirror_mode": {
        "name": "ipython",
        "version": 3
      },
      "file_extension": ".py",
      "mimetype": "text/x-python",
      "name": "python",
      "nbconvert_exporter": "python",
      "pygments_lexer": "ipython3",
      "version": "3.9.5"
    },
    "colab": {
      "name": "CZ Entanglement.ipynb",
      "provenance": [],
      "collapsed_sections": [],
      "include_colab_link": true
    }
  },
  "nbformat": 4,
  "nbformat_minor": 5
}